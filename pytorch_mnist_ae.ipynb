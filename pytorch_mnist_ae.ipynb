{
 "cells": [
  {
   "cell_type": "code",
   "execution_count": 10,
   "metadata": {},
   "outputs": [],
   "source": [
    "import torch\n",
    "import torchvision\n",
    "import torchvision.transforms as transforms\n",
    "from matplotlib import pyplot as plt\n",
    "import numpy as np\n",
    "use_cuda = torch.cuda.is_available()\n",
    "device = torch.device(\"cuda\" if use_cuda else \"cpu\")\n",
    "if use_cuda: \n",
    "    torch.cuda.empty_cache()\n"
   ]
  },
  {
   "cell_type": "code",
   "execution_count": 6,
   "metadata": {},
   "outputs": [],
   "source": [
    "transform = transforms.Compose(\n",
    "    [transforms.ToTensor(), \n",
    "     transforms.Normalize((0.1307,), (0.3081,))])\n",
    "\n",
    "trainset = torchvision.datasets.MNIST(root='./data', train=True, download=True, transform=transform)\n",
    "trainloader = torch.utils.data.DataLoader(trainset, batch_size=40,\n",
    "                                          shuffle=True, num_workers=2)\n",
    "\n",
    "testset = torchvision.datasets.MNIST(root='./data', train=False, download=True, transform=transform)\n",
    "testloader = torch.utils.data.DataLoader(testset, batch_size=40,\n",
    "                                         shuffle=False, num_workers=2)\n",
    "\n",
    "\n",
    "classes = ('0', '1', '2', '3', '4', '5', '6', '7', '8', '9')\n"
   ]
  },
  {
   "cell_type": "code",
   "execution_count": 2,
   "metadata": {},
   "outputs": [
    {
     "ename": "NameError",
     "evalue": "name 'trainloader' is not defined",
     "output_type": "error",
     "traceback": [
      "\u001b[0;31m---------------------------------------------------------------------------\u001b[0m",
      "\u001b[0;31mNameError\u001b[0m                                 Traceback (most recent call last)",
      "\u001b[0;32m<ipython-input-2-fa1530737734>\u001b[0m in \u001b[0;36m<module>\u001b[0;34m\u001b[0m\n\u001b[1;32m     13\u001b[0m \u001b[0;34m\u001b[0m\u001b[0m\n\u001b[1;32m     14\u001b[0m \u001b[0;31m# get some random training images\u001b[0m\u001b[0;34m\u001b[0m\u001b[0;34m\u001b[0m\u001b[0;34m\u001b[0m\u001b[0m\n\u001b[0;32m---> 15\u001b[0;31m \u001b[0mdataiter\u001b[0m \u001b[0;34m=\u001b[0m \u001b[0miter\u001b[0m\u001b[0;34m(\u001b[0m\u001b[0mtrainloader\u001b[0m\u001b[0;34m)\u001b[0m\u001b[0;34m\u001b[0m\u001b[0;34m\u001b[0m\u001b[0m\n\u001b[0m\u001b[1;32m     16\u001b[0m \u001b[0mimages\u001b[0m\u001b[0;34m,\u001b[0m \u001b[0mlabels\u001b[0m \u001b[0;34m=\u001b[0m \u001b[0mdataiter\u001b[0m\u001b[0;34m.\u001b[0m\u001b[0mnext\u001b[0m\u001b[0;34m(\u001b[0m\u001b[0;34m)\u001b[0m\u001b[0;34m\u001b[0m\u001b[0;34m\u001b[0m\u001b[0m\n\u001b[1;32m     17\u001b[0m \u001b[0;34m\u001b[0m\u001b[0m\n",
      "\u001b[0;31mNameError\u001b[0m: name 'trainloader' is not defined"
     ]
    }
   ],
   "source": [
    "\n",
    "def imshow(img):\n",
    "    img = img / 2 + 0.5     # unnormalize\n",
    "    npimg = img.numpy()\n",
    "    plt.imshow(np.transpose(npimg, (1, 2, 0)))\n",
    "    plt.show()\n",
    "    \n",
    "def imshow2(img): \n",
    "    npimg = img.numpy()\n",
    "    plt.imshow(np.transpose(npimg, (1, 2, 0)))\n",
    "    plt.show()\n",
    "\n",
    "\n",
    "# get some random training images\n",
    "dataiter = iter(trainloader)\n",
    "images, labels = dataiter.next()\n",
    "\n",
    "# show images\n",
    "imshow(torchvision.utils.make_grid(images))\n",
    "print(' '.join('%5s' % classes[labels[j]] for j in range(4)))"
   ]
  },
  {
   "cell_type": "markdown",
   "metadata": {},
   "source": [
    "## Make model\n",
    "Define CNN "
   ]
  },
  {
   "cell_type": "code",
   "execution_count": 24,
   "metadata": {},
   "outputs": [],
   "source": [
    "import torch.nn as nn\n",
    "import torch.nn.functional as F\n",
    "from torch.autograd import Variable\n",
    "\n",
    "torch.manual_seed(42)\n",
    "\n",
    "class Encoder(nn.Module):\n",
    "    def __init__(self):\n",
    "        super(Encoder, self).__init__()\n",
    "        self.conv1 = nn.Conv2d(1, 10, kernel_size=3, stride=1, padding=1)\n",
    "        self.conv2 = nn.Conv2d(10, 10, kernel_size=3, stride=1, padding=1)\n",
    "        self.conv3 = nn.Conv2d(10, 20, kernel_size=3, stride=1, padding=1)\n",
    "        self.conv4 = nn.Conv2d(20, 20, kernel_size=3, stride=1, padding=1)\n",
    "        self.pool = nn.MaxPool2d(2, 2, return_indices=True)\n",
    "        self.fc1 = nn.Linear(20 * 7 * 7, 500)\n",
    "        self.fc2 = nn.Linear(500, 250)\n",
    "        \n",
    "        self.fc31 = nn.Linear(250, 50)\n",
    "        self.fc32 = nn.Linear(250, 50)\n",
    "        \n",
    "    def forward(self, x):\n",
    "        # start 1 x 28 x 28\n",
    "        \n",
    "        x = F.relu(self.conv1(x))\n",
    "        x = F.relu(self.conv2(x))\n",
    "        x, pool_indices_1 = self.pool(x)\n",
    "        # now 10 x 14 x 14\n",
    "        \n",
    "        x = F.relu(self.conv3(x))\n",
    "        x = F.relu(self.conv4(x))\n",
    "        x, pool_indices_2 = self.pool(x)\n",
    "        # now 20 x 7 x 7)\n",
    "        \n",
    "        x = x.view(-1, 20 * 7 * 7)\n",
    "        x = F.relu(self.fc1(x))\n",
    "        # now 1 x 500\n",
    "        \n",
    "        x = F.relu(self.fc2(x))\n",
    "        # now 1 x 250 \n",
    "        \n",
    "        # Split into means and std deviations\n",
    "        mu = self.fc31(x)\n",
    "        logvar = self.fc32(x)\n",
    "        # now 2 * 1 x 50 \n",
    "        \n",
    "        return mu, logvar, pool_indices_1, pool_indices_2\n",
    "\n",
    "class Decoder(nn.Module): \n",
    "    def __init__(self): \n",
    "        super(Decoder, self).__init__()\n",
    "        self.fc1 = nn.Linear(50, 250)\n",
    "        self.fc2 = nn.Linear(250, 500)\n",
    "        self.fc3 = nn.Linear(500, 20 * 7 * 7)\n",
    "        self.conv1 = nn.ConvTranspose2d(20, 20, kernel_size=3, stride=1, padding=1)\n",
    "        self.conv2 = nn.ConvTranspose2d(20, 10, kernel_size=3, stride=1, padding=1)\n",
    "        self.conv3 = nn.ConvTranspose2d(10, 10, kernel_size=3, stride=1, padding=1)\n",
    "        self.conv4 = nn.ConvTranspose2d(10, 1, kernel_size=3, stride=1, padding=1)\n",
    "        self.pool = nn.MaxUnpool2d(2, 2)\n",
    "        self.sigmoid = nn.Sigmoid()\n",
    "        \n",
    "    @staticmethod\n",
    "    def make_top_left_unpool_indices(shape, stride=(2, 2)):\n",
    "        \"\"\"\n",
    "        Create an unpooling index that always puts the value in the top left of the \n",
    "        unpooling kernel.\n",
    "        \"\"\"\n",
    "        out = np.zeros(shape) # TODO \n",
    "        for b in range(shape[0]): \n",
    "            for d in range(shape[1]): \n",
    "                for x in range(shape[2]): \n",
    "                    for y in range(shape[3]):\n",
    "                        out[b, d, x, y] = x * shape[3] * 2 * stride[0] + y * stride[1]\n",
    "        return torch.from_numpy(out).float()\n",
    "    \n",
    "    def forward(self, x): \n",
    "        # start 50\n",
    "        pool_indices_1 = self.make_top_left_unpool_indices((x.shape[0], 10, 14, 14)).type(torch.LongTensor).to(device)\n",
    "        pool_indices_2 = self.make_top_left_unpool_indices((x.shape[0], 20, 7, 7)).type(torch.LongTensor).to(device)\n",
    "        \n",
    "        x = self.fc1(x)\n",
    "        # now 250\n",
    "        \n",
    "        x = F.relu(self.fc2(x))\n",
    "        # now 500\n",
    "        \n",
    "        x = F.relu(self.fc3(x))\n",
    "        # now 20 * 7 * 7\n",
    "        \n",
    "        x = x.view(-1, 20, 7, 7)\n",
    "        # now 20 x 7 x 7\n",
    "        \n",
    "        x = self.pool(x, pool_indices_2)\n",
    "        x = F.relu(self.conv1(x))\n",
    "        x = F.relu(self.conv2(x))\n",
    "        # now 10 x 14 x 14\n",
    "        \n",
    "        x = self.pool(x, pool_indices_1)\n",
    "        x = F.relu(self.conv3(x))\n",
    "        x = F.relu(self.conv4(x))\n",
    "        # now 1 x 28 x 28\n",
    "        \n",
    "        # normalize to range -1 to 1 to match input data\n",
    "        x = self.sigmoid(x)\n",
    "        x = (x - .75) * 4\n",
    "        \n",
    "        return x\n",
    "    \n",
    "class Net(nn.Module):\n",
    "    def __init__(self):\n",
    "        super(Net, self).__init__()\n",
    "        self.encoder = Encoder()\n",
    "        self.decoder = Decoder()\n",
    "\n",
    "    def reparametrize(self, mu, logvar, deviation=1.):\n",
    "        if not isinstance(deviation, torch.Tensor):\n",
    "            deviation = torch.FloatTensor([deviation]).repeat(50).to(device)\n",
    "            \n",
    "        std = logvar.mul(0.5).exp_() * deviation\n",
    "        if torch.cuda.is_available():\n",
    "            eps = torch.cuda.FloatTensor(std.size()).normal_()\n",
    "        else:\n",
    "            eps = torch.FloatTensor(std.size()).normal_()\n",
    "        eps = Variable(eps)\n",
    "        \n",
    "        # cleanup\n",
    "        if isinstance(deviation, torch.Tensor):\n",
    "            deviation.detach()\n",
    "            \n",
    "        return eps.mul(std).add_(mu)\n",
    "    \n",
    "    def encode(self, x): \n",
    "        mu, logvar, _, _ = self.encoder(x)\n",
    "        return mu, logvar\n",
    "    \n",
    "    def decode(self, x): \n",
    "        return self.decoder(x)\n",
    "    \n",
    "    def sample(self, mu, logvar, deviation=1.): \n",
    "        z = self.reparametrize(mu.to(device), logvar.to(device), deviation)\n",
    "        z = z.to(device)\n",
    "        decoded = self.decode(z)\n",
    "        return decoded.cpu().detach()\n",
    "    \n",
    "    def forward(self, x):\n",
    "        # encode\n",
    "        mu, logvar, _, _ = self.encoder(x)\n",
    "        \n",
    "        # sample\n",
    "        z = self.reparametrize(mu, logvar)\n",
    "        \n",
    "        result = self.decode(z)\n",
    "        return result, mu, logvar\n",
    "    \n",
    "net = Net().to(device)"
   ]
  },
  {
   "cell_type": "markdown",
   "metadata": {},
   "source": [
    "loss function\n"
   ]
  },
  {
   "cell_type": "code",
   "execution_count": 5,
   "metadata": {},
   "outputs": [
    {
     "name": "stderr",
     "output_type": "stream",
     "text": [
      "/opt/anaconda3/lib/python3.7/site-packages/torch/nn/_reduction.py:46: UserWarning: size_average and reduce args will be deprecated, please use reduction='sum' instead.\n",
      "  warnings.warn(warning.format(ret))\n"
     ]
    }
   ],
   "source": [
    "reconstruction_function = nn.MSELoss(size_average=False)\n",
    "\n",
    "def loss_function(recon_x, x, mu, logvar):\n",
    "    \"\"\"\n",
    "    recon_x: generating images\n",
    "    x: origin images\n",
    "    mu: latent mean\n",
    "    logvar: latent log variance\n",
    "    \"\"\"\n",
    "    BCE = reconstruction_function(recon_x, x)  # mse loss\n",
    "    # loss = 0.5 * sum(1 + log(sigma^2) - mu^2 - sigma^2)\n",
    "    KLD_element = mu.pow(2).add_(logvar.exp()).mul_(-1).add_(1).add_(logvar)\n",
    "    KLD = torch.sum(KLD_element).mul_(-0.5)\n",
    "    # KL divergence\n",
    "    return BCE + KLD"
   ]
  },
  {
   "cell_type": "code",
   "execution_count": 6,
   "metadata": {},
   "outputs": [],
   "source": [
    "import torch.optim as optim\n",
    "\n",
    "criterion = nn.MSELoss()\n",
    "optimizer = torch.optim.Adam(net.parameters(), lr=0.001,\n",
    "                             weight_decay=1e-5)"
   ]
  },
  {
   "cell_type": "markdown",
   "metadata": {},
   "source": [
    "training procedure"
   ]
  },
  {
   "cell_type": "code",
   "execution_count": 7,
   "metadata": {},
   "outputs": [],
   "source": [
    "from datetime import datetime\n",
    "\n",
    "def train():\n",
    "    last_print = datetime.now()\n",
    "\n",
    "    for epoch in range(4):  # loop over the dataset multiple times\n",
    "\n",
    "        running_loss = 0.0\n",
    "        for i, data in enumerate(trainloader, 0):\n",
    "            # get the inputs; data is a list of [inputs, labels]\n",
    "            inputs, _ = data\n",
    "            inputs = inputs.to(device)\n",
    "\n",
    "            # zero the parameter gradients\n",
    "            optimizer.zero_grad()\n",
    "\n",
    "            # forward + backward + optimize\n",
    "            outputs = net(inputs)\n",
    "\n",
    "            recon_batch, mu, logvar = net(inputs)\n",
    "            loss = loss_function(recon_batch, inputs, mu, logvar)\n",
    "            loss.backward()\n",
    "\n",
    "            optimizer.step()\n",
    "\n",
    "            # print statistics\n",
    "            running_loss += loss.item()\n",
    "            if i % 500 == 499:    # print every 49 mini-batches\n",
    "                now = datetime.now()\n",
    "                elapsed = now - last_print\n",
    "                last_print = now\n",
    "\n",
    "                print('[%d, %5d] loss: %.3f elapsed seconds: %.3f' %\n",
    "                      (epoch + 1, i + 1, running_loss / 500, elapsed.total_seconds()))\n",
    "                running_loss = 0.0\n",
    "\n",
    "    print('Finished Training')"
   ]
  },
  {
   "cell_type": "code",
   "execution_count": 25,
   "metadata": {},
   "outputs": [],
   "source": [
    "vae_weights_path = \"model/vae_weight.pt\"\n",
    "try: \n",
    "    net.load_state_dict(torch.load(vae_weights_path, map_location=lambda storage, location: storage))\n",
    "    net.eval()\n",
    "except Exception as e:\n",
    "    print(e)\n",
    "    train()\n",
    "    torch.save(net.state_dict(), vae_weights_path)"
   ]
  },
  {
   "cell_type": "code",
   "execution_count": 18,
   "metadata": {},
   "outputs": [
    {
     "ename": "NameError",
     "evalue": "name 'testloader' is not defined",
     "output_type": "error",
     "traceback": [
      "\u001b[0;31m---------------------------------------------------------------------------\u001b[0m",
      "\u001b[0;31mNameError\u001b[0m                                 Traceback (most recent call last)",
      "\u001b[0;32m<ipython-input-18-74699098ada9>\u001b[0m in \u001b[0;36m<module>\u001b[0;34m\u001b[0m\n\u001b[0;32m----> 1\u001b[0;31m \u001b[0mdataiter\u001b[0m \u001b[0;34m=\u001b[0m \u001b[0miter\u001b[0m\u001b[0;34m(\u001b[0m\u001b[0mtestloader\u001b[0m\u001b[0;34m)\u001b[0m\u001b[0;34m\u001b[0m\u001b[0;34m\u001b[0m\u001b[0m\n\u001b[0m\u001b[1;32m      2\u001b[0m \u001b[0mimages\u001b[0m\u001b[0;34m,\u001b[0m \u001b[0mlabels\u001b[0m \u001b[0;34m=\u001b[0m \u001b[0mdataiter\u001b[0m\u001b[0;34m.\u001b[0m\u001b[0mnext\u001b[0m\u001b[0;34m(\u001b[0m\u001b[0;34m)\u001b[0m\u001b[0;34m\u001b[0m\u001b[0;34m\u001b[0m\u001b[0m\n\u001b[1;32m      3\u001b[0m \u001b[0moutputs\u001b[0m\u001b[0;34m,\u001b[0m \u001b[0mmu\u001b[0m\u001b[0;34m,\u001b[0m \u001b[0mlogvar\u001b[0m \u001b[0;34m=\u001b[0m \u001b[0mnet\u001b[0m\u001b[0;34m(\u001b[0m\u001b[0mimages\u001b[0m\u001b[0;34m.\u001b[0m\u001b[0mto\u001b[0m\u001b[0;34m(\u001b[0m\u001b[0mdevice\u001b[0m\u001b[0;34m)\u001b[0m\u001b[0;34m)\u001b[0m\u001b[0;34m\u001b[0m\u001b[0;34m\u001b[0m\u001b[0m\n\u001b[1;32m      4\u001b[0m \u001b[0moutputs\u001b[0m \u001b[0;34m=\u001b[0m \u001b[0moutputs\u001b[0m\u001b[0;34m.\u001b[0m\u001b[0mto\u001b[0m\u001b[0;34m(\u001b[0m\u001b[0;34m\"cpu\"\u001b[0m\u001b[0;34m)\u001b[0m\u001b[0;34m.\u001b[0m\u001b[0mdetach\u001b[0m\u001b[0;34m(\u001b[0m\u001b[0;34m)\u001b[0m\u001b[0;34m\u001b[0m\u001b[0;34m\u001b[0m\u001b[0m\n\u001b[1;32m      5\u001b[0m \u001b[0;34m\u001b[0m\u001b[0m\n",
      "\u001b[0;31mNameError\u001b[0m: name 'testloader' is not defined"
     ]
    }
   ],
   "source": [
    "dataiter = iter(testloader)\n",
    "images, labels = dataiter.next()\n",
    "outputs, mu, logvar = net(images.to(device))\n",
    "outputs = outputs.to(\"cpu\").detach()\n",
    "\n",
    "print(mu)\n",
    "print(logvar)\n",
    "print(mu.shape)\n",
    "print(logvar.shape)\n",
    "\n",
    "print(\"ACTUAL:\")\n",
    "imshow(torchvision.utils.make_grid(images))\n",
    "\n",
    "print(\"PREDICTED / GENERATED:\") \n",
    "imshow2(torchvision.utils.make_grid(outputs))"
   ]
  },
  {
   "cell_type": "code",
   "execution_count": 66,
   "metadata": {},
   "outputs": [
    {
     "name": "stderr",
     "output_type": "stream",
     "text": [
      "Clipping input data to the valid range for imshow with RGB data ([0..1] for floats or [0..255] for integers).\n"
     ]
    },
    {
     "name": "stdout",
     "output_type": "stream",
     "text": [
      "ACTUAL:\n"
     ]
    },
    {
     "data": {
      "image/png": "[encoded data removed]",
      "text/plain": [
       "<Figure size 432x288 with 1 Axes>"
      ]
     },
     "metadata": {
      "needs_background": "light"
     },
     "output_type": "display_data"
    },
    {
     "name": "stderr",
     "output_type": "stream",
     "text": [
      "Clipping input data to the valid range for imshow with RGB data ([0..1] for floats or [0..255] for integers).\n"
     ]
    },
    {
     "name": "stdout",
     "output_type": "stream",
     "text": [
      "torch.Size([40, 50])\n",
      "tensor([[ 0.6151, -2.4429, -0.3259,  ..., -1.6006,  0.0938,  0.3311],\n",
      "        [-0.6088,  0.0789,  0.7318,  ..., -0.4748,  0.1998, -0.1451],\n",
      "        [ 0.6920,  1.0241, -1.5040,  ...,  0.1919, -0.4501,  0.7106],\n",
      "        ...,\n",
      "        [ 0.8026,  1.1802,  1.2123,  ..., -0.0494,  1.8772, -0.2471],\n",
      "        [-0.2213,  0.4573, -2.0008,  ..., -1.8065, -0.1923,  1.1726],\n",
      "        [ 2.4777, -0.2550,  0.0881,  ..., -1.9037,  0.7725, -3.6520]],\n",
      "       device='cuda:0', grad_fn=<AddBackward0>)\n",
      "PREDICTED / GENERATED:\n",
      "torch.Size([40, 1, 28, 28])\n"
     ]
    },
    {
     "data": {
      "image/png": "[encoded data removed]",
      "text/plain": [
       "<Figure size 432x288 with 1 Axes>"
      ]
     },
     "metadata": {
      "needs_background": "light"
     },
     "output_type": "display_data"
    },
    {
     "name": "stderr",
     "output_type": "stream",
     "text": [
      "Clipping input data to the valid range for imshow with RGB data ([0..1] for floats or [0..255] for integers).\n"
     ]
    },
    {
     "name": "stdout",
     "output_type": "stream",
     "text": [
      "torch.Size([40, 50])\n",
      "tensor([[-0.3841, -0.5159, -0.1670,  ...,  0.4698,  1.1221, -0.6654],\n",
      "        [ 0.0515, -0.2305,  1.2212,  ...,  1.3607,  0.4456, -0.5101],\n",
      "        [-0.6565,  1.0375, -1.3181,  ..., -0.1940,  2.1063, -0.5990],\n",
      "        ...,\n",
      "        [-2.3770,  1.1075, -0.7308,  ..., -0.0904,  1.0112,  0.3599],\n",
      "        [-1.0661,  0.5892, -0.6109,  ..., -0.3522, -0.4603, -1.3376],\n",
      "        [ 1.9934, -0.0177,  0.6162,  ...,  1.1922, -0.5996,  0.2678]],\n",
      "       device='cuda:0', grad_fn=<AddBackward0>)\n",
      "PREDICTED / GENERATED:\n",
      "torch.Size([40, 1, 28, 28])\n"
     ]
    },
    {
     "data": {
      "image/png": "[encoded data removed]",
      "text/plain": [
       "<Figure size 432x288 with 1 Axes>"
      ]
     },
     "metadata": {
      "needs_background": "light"
     },
     "output_type": "display_data"
    }
   ],
   "source": [
    "images, labels = dataiter.next()\n",
    "mu, logvar, pool_1, pool_2 = net.encoder(images.to(device))\n",
    "\n",
    "# print(mu)\n",
    "# print(logvar)\n",
    "# print(pool_1.shape)\n",
    "# print(pool_2.shape)\n",
    "\n",
    "print(\"ACTUAL:\")\n",
    "imshow(torchvision.utils.make_grid(images))\n",
    "\n",
    "for _ in range(2): \n",
    "    z = net.reparametrize(mu, logvar)\n",
    "    print(z.shape)\n",
    "    print(z)\n",
    "    decoded = net.decoder(z).to(\"cpu\").detach()\n",
    "\n",
    "    print(\"PREDICTED / GENERATED:\") \n",
    "    print(decoded.shape)\n",
    "    imshow2(torchvision.utils.make_grid(decoded))"
   ]
  },
  {
   "cell_type": "code",
   "execution_count": 19,
   "metadata": {},
   "outputs": [
    {
     "name": "stdout",
     "output_type": "stream",
     "text": [
      "final mu / logvar\n",
      "torch.Size([50])\n",
      "torch.Size([50])\n",
      "tensor([ 0.0184, -0.0039, -0.0042, -0.0912,  0.0321, -0.0143,  0.0439,  0.0075,\n",
      "         0.0600, -0.0015,  0.0121, -0.0128, -0.0024, -0.0152,  0.0013, -0.0778,\n",
      "        -0.0063, -0.0241, -0.0081, -0.0078, -0.0066,  0.0070,  0.0108,  0.0073,\n",
      "        -0.2045,  0.0120,  0.0010,  0.0071, -0.0255,  0.0019, -0.0358,  0.0043,\n",
      "        -0.0204,  0.0728,  0.0216,  0.0072,  0.0101, -0.0262,  0.0042,  0.0104,\n",
      "         0.0184, -0.0058, -0.0310, -0.0174,  0.0053,  0.1326,  0.0267, -0.0103,\n",
      "         0.0277, -0.0258], dtype=torch.float64)\n"
     ]
    }
   ],
   "source": [
    "import torch\n",
    "import numpy as np\n",
    "\n",
    "def calc_mu_logvar():\n",
    "    def sum_2d(x):\n",
    "        sum = torch.from_numpy(np.zeros(x.shape[1]))\n",
    "        for i in range(x.shape[1]):\n",
    "            sum[i] = x[:, i].sum()\n",
    "        return sum\n",
    "\n",
    "    color_map = {label: [25 * label, 25 * label, 25 * label] for label in list(range(10))}\n",
    "\n",
    "    running_mu = torch.from_numpy(np.zeros(50))\n",
    "    running_logvar = torch.from_numpy(np.zeros(50))\n",
    "\n",
    "    for i, data in enumerate(trainloader, 0):\n",
    "        torch.cuda.empty_cache()\n",
    "\n",
    "        # get the inputs; data is a list of [inputs, labels]\n",
    "        inputs, labels = data\n",
    "        labels = torch.LongTensor([color_map[l.item()] for l in labels])\n",
    "        inputs = inputs.to(device)\n",
    "        batch_size = inputs.shape[0]\n",
    "\n",
    "        # forward + backward + optimize\n",
    "        mu, logvar, _, _ = net.encoder(inputs)\n",
    "\n",
    "        mu = mu.cpu().detach()\n",
    "        logvar = logvar.cpu().detach()\n",
    "\n",
    "        running_mu = ((running_mu * i * batch_size) + sum_2d(mu)) / ((i + 1) * batch_size)\n",
    "        running_logvar = ((running_logvar * i * batch_size) + sum_2d(logvar)) / ((i + 1) * batch_size)\n",
    "\n",
    "        if i % 500 == 0: \n",
    "            print(\"calculating running mu: {} {} {}\".format(i, running_mu, mu))\n",
    "            \n",
    "mus_path = \"model/mus.pt\"\n",
    "std_dev_path = \"model/std_devs.pt\"\n",
    "\n",
    "try: \n",
    "    running_mu = torch.load(mus_path)\n",
    "    running_logvar = torch.load(std_dev_path)\n",
    "except: \n",
    "    calc_mu_logvar()\n",
    "    torch.save(running_mu, mus_path)\n",
    "    torch.save(running_logvar, std_dev_path)\n",
    "\n",
    "        \n",
    "print(\"final mu / logvar\")\n",
    "print(running_mu.shape)\n",
    "print(running_logvar.shape)\n",
    "print(running_mu)"
   ]
  },
  {
   "cell_type": "code",
   "execution_count": 29,
   "metadata": {},
   "outputs": [
    {
     "name": "stderr",
     "output_type": "stream",
     "text": [
      "Clipping input data to the valid range for imshow with RGB data ([0..1] for floats or [0..255] for integers).\n"
     ]
    },
    {
     "name": "stdout",
     "output_type": "stream",
     "text": [
      "MEAN digit\n",
      "torch.Size([40, 1, 28, 28])\n"
     ]
    },
    {
     "data": {
      "image/png": "[encoded data removed]",
      "text/plain": [
       "<Figure size 432x288 with 1 Axes>"
      ]
     },
     "metadata": {
      "needs_background": "light"
     },
     "output_type": "display_data"
    }
   ],
   "source": [
    "\n",
    "decoded = net.sample(running_mu.type(torch.FloatTensor).repeat(40, 1), \n",
    "                     running_logvar.type(torch.FloatTensor).repeat(40, 1), deviation=1)\n",
    "print(\"MEAN digit\") \n",
    "print(decoded.shape)\n",
    "imshow2(torchvision.utils.make_grid(decoded))\n",
    "# 40, 1, 28, 28"
   ]
  },
  {
   "cell_type": "code",
   "execution_count": 21,
   "metadata": {},
   "outputs": [],
   "source": [
    "# discover important variables in the dense representation \n",
    "mus_by_abs = [(i, abs(running_mu[i])) for i in list(range(50))]\n",
    "# reverse=False to only tweak the smallest variables\n",
    "mus_by_abs = sorted(mus_by_abs, key=lambda p: p[1], reverse=True)\n",
    "mus_by_abs = [p[0] for p in mus_by_abs]"
   ]
  },
  {
   "cell_type": "code",
   "execution_count": 28,
   "metadata": {},
   "outputs": [
    {
     "name": "stderr",
     "output_type": "stream",
     "text": [
      "Clipping input data to the valid range for imshow with RGB data ([0..1] for floats or [0..255] for integers).\n"
     ]
    },
    {
     "name": "stdout",
     "output_type": "stream",
     "text": [
      "MEAN digit\n",
      "torch.Size([1, 1, 28, 28])\n"
     ]
    },
    {
     "data": {
      "image/png": "[encoded data removed]",
      "text/plain": [
       "<Figure size 432x288 with 1 Axes>"
      ]
     },
     "metadata": {
      "needs_background": "light"
     },
     "output_type": "display_data"
    }
   ],
   "source": [
    "# sample properties using a std deviation of important properties (more deviation for more important properties)\n",
    "deviation = np.ones(50)\n",
    "remaining_std_dev = 42 # adjust this to get more or less deviated pictures\n",
    "for mu in mus_by_abs: \n",
    "    deviation[mu] = max(remaining_std_dev / 2, 0)\n",
    "    remaining_std_dev /= 2\n",
    "        \n",
    "deviation = torch.from_numpy(deviation).type(torch.FloatTensor).to(device)\n",
    "\n",
    "decoded = net.sample(running_mu.type(torch.FloatTensor).repeat(1, 1), \n",
    "                     running_logvar.type(torch.FloatTensor).repeat(1, 1), deviation=deviation)\n",
    "print(\"MEAN digit\") \n",
    "print(decoded.shape)\n",
    "imshow2(torchvision.utils.make_grid(decoded))\n",
    "# 40, 1, 28, 28"
   ]
  },
  {
   "cell_type": "code",
   "execution_count": null,
   "metadata": {},
   "outputs": [],
   "source": []
  }
 ],
 "metadata": {
  "kernelspec": {
   "display_name": "Python 3",
   "language": "python",
   "name": "python3"
  },
  "language_info": {
   "codemirror_mode": {
    "name": "ipython",
    "version": 3
   },
   "file_extension": ".py",
   "mimetype": "text/x-python",
   "name": "python",
   "nbconvert_exporter": "python",
   "pygments_lexer": "ipython3",
   "version": "3.7.3"
  }
 },
 "nbformat": 4,
 "nbformat_minor": 2
}
